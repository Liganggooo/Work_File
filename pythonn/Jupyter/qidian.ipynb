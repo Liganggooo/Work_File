{
 "cells": [
  {
   "cell_type": "code",
   "execution_count": 39,
   "metadata": {},
   "outputs": [
    {
     "name": "stdout",
     "output_type": "stream",
     "text": [
      "//book.qidian.com/info/1979049\n",
      "//book.qidian.com/info/1009704712\n",
      "//book.qidian.com/info/1010191960\n",
      "//book.qidian.com/info/1004185492\n",
      "//book.qidian.com/info/1010136878\n",
      "//book.qidian.com/info/1004608738\n",
      "//book.qidian.com/info/3602691\n",
      "//book.qidian.com/info/1011058239\n",
      "//book.qidian.com/info/1010734492\n",
      "//book.qidian.com/info/1011335417\n",
      "//book.qidian.com/info/1005776750\n",
      "//book.qidian.com/info/1011121310\n",
      "//book.qidian.com/info/1010965501\n",
      "//book.qidian.com/info/1005236478\n",
      "//book.qidian.com/info/1003694333\n",
      "//book.qidian.com/info/1004179514\n",
      "//book.qidian.com/info/1011449273\n",
      "//book.qidian.com/info/1010468795\n",
      "//book.qidian.com/info/1004174819\n",
      "//book.qidian.com/info/3681560\n"
     ]
    }
   ],
   "source": [
    "from lxml import etree\n",
    "import requests\n",
    "url = 'https://www.qidian.com/rank/yuepiao?style=1&page=1'\n",
    "response = requests.get(url)\n",
    "html = response.text\n",
    "# print(html)\n",
    "content = etree.HTML(html)\n",
    "links = content.xpath('//*[@class=\"book-img-text\"]//li')\n",
    "for link in links:\n",
    "    href = link.xpath('./div[2]/h4/a/@href')[0]\n",
    "    print(href)"
   ]
  },
  {
   "cell_type": "code",
   "execution_count": null,
   "metadata": {
    "collapsed": true
   },
   "outputs": [],
   "source": []
  }
 ],
 "metadata": {
  "kernelspec": {
   "display_name": "Python 3",
   "language": "python",
   "name": "python3"
  },
  "language_info": {
   "codemirror_mode": {
    "name": "ipython",
    "version": 3
   },
   "file_extension": ".py",
   "mimetype": "text/x-python",
   "name": "python",
   "nbconvert_exporter": "python",
   "pygments_lexer": "ipython3",
   "version": "3.6.3"
  }
 },
 "nbformat": 4,
 "nbformat_minor": 2
}
