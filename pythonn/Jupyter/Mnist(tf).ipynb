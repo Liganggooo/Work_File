{
 "cells": [
  {
   "cell_type": "code",
   "execution_count": 12,
   "metadata": {},
   "outputs": [
    {
     "data": {
      "text/plain": [
       "'C:\\\\Users\\\\lg\\\\desktop\\\\pythonn\\\\TensorFlow'"
      ]
     },
     "execution_count": 12,
     "metadata": {},
     "output_type": "execute_result"
    }
   ],
   "source": [
    "import os\n",
    "# os.chdir('..')\n",
    "os.chdir('desktop\\pythonn\\TensorFlow')\n",
    "os.getcwd()"
   ]
  },
  {
   "cell_type": "code",
   "execution_count": 13,
   "metadata": {},
   "outputs": [
    {
     "name": "stdout",
     "output_type": "stream",
     "text": [
      "WARNING:tensorflow:From <ipython-input-13-1901977a2502>:5: read_data_sets (from tensorflow.contrib.learn.python.learn.datasets.mnist) is deprecated and will be removed in a future version.\n",
      "Instructions for updating:\n",
      "Please use alternatives such as official/mnist/dataset.py from tensorflow/models.\n",
      "WARNING:tensorflow:From D:\\anaconda\\lib\\site-packages\\tensorflow\\contrib\\learn\\python\\learn\\datasets\\mnist.py:260: maybe_download (from tensorflow.contrib.learn.python.learn.datasets.base) is deprecated and will be removed in a future version.\n",
      "Instructions for updating:\n",
      "Please write your own downloading logic.\n",
      "WARNING:tensorflow:From D:\\anaconda\\lib\\site-packages\\tensorflow\\contrib\\learn\\python\\learn\\datasets\\mnist.py:262: extract_images (from tensorflow.contrib.learn.python.learn.datasets.mnist) is deprecated and will be removed in a future version.\n",
      "Instructions for updating:\n",
      "Please use tf.data to implement this functionality.\n",
      "Extracting MNIST_data/train-images-idx3-ubyte.gz\n",
      "WARNING:tensorflow:From D:\\anaconda\\lib\\site-packages\\tensorflow\\contrib\\learn\\python\\learn\\datasets\\mnist.py:267: extract_labels (from tensorflow.contrib.learn.python.learn.datasets.mnist) is deprecated and will be removed in a future version.\n",
      "Instructions for updating:\n",
      "Please use tf.data to implement this functionality.\n",
      "Extracting MNIST_data/train-labels-idx1-ubyte.gz\n",
      "WARNING:tensorflow:From D:\\anaconda\\lib\\site-packages\\tensorflow\\contrib\\learn\\python\\learn\\datasets\\mnist.py:110: dense_to_one_hot (from tensorflow.contrib.learn.python.learn.datasets.mnist) is deprecated and will be removed in a future version.\n",
      "Instructions for updating:\n",
      "Please use tf.one_hot on tensors.\n",
      "Extracting MNIST_data/t10k-images-idx3-ubyte.gz\n",
      "Extracting MNIST_data/t10k-labels-idx1-ubyte.gz\n",
      "WARNING:tensorflow:From D:\\anaconda\\lib\\site-packages\\tensorflow\\contrib\\learn\\python\\learn\\datasets\\mnist.py:290: DataSet.__init__ (from tensorflow.contrib.learn.python.learn.datasets.mnist) is deprecated and will be removed in a future version.\n",
      "Instructions for updating:\n",
      "Please use alternatives such as official/mnist/dataset.py from tensorflow/models.\n"
     ]
    }
   ],
   "source": [
    "%matplotlib inline\n",
    "import tensorflow as tf\n",
    "import pylab\n",
    "from tensorflow.examples.tutorials.mnist import input_data\n",
    "mnist = input_data.read_data_sets('MNIST_data/',one_hot = True)"
   ]
  },
  {
   "cell_type": "code",
   "execution_count": 14,
   "metadata": {
    "collapsed": true
   },
   "outputs": [],
   "source": [
    "tf.reset_default_graph()\n",
    "x = tf.placeholder(tf.float32,[None,784])\n",
    "y = tf.placeholder(tf.float32,[None,10])\n",
    "W = tf.Variable(tf.random_normal([784,10]))\n",
    "b = tf.Variable(tf.zeros([10]))\n",
    "#正向输出节点\n",
    "pred = tf.nn.softmax(tf.matmul(x,W) + b)"
   ]
  },
  {
   "cell_type": "code",
   "execution_count": 15,
   "metadata": {
    "collapsed": true
   },
   "outputs": [],
   "source": [
    "#反向传播结构\n",
    "cost = tf.reduce_mean(-tf.reduce_sum(y*tf.log(pred),reduction_indices = 1))\n",
    "learning_rate = 0.01\n",
    "optimizer = tf.train.GradientDescentOptimizer(learning_rate).minimize(cost)"
   ]
  },
  {
   "cell_type": "code",
   "execution_count": 16,
   "metadata": {},
   "outputs": [
    {
     "name": "stdout",
     "output_type": "stream",
     "text": [
      "Epoch: 0001 cost= 8.056208710\n",
      "Epoch: 0002 cost= 4.427135948\n",
      "Epoch: 0003 cost= 3.123569296\n",
      "Epoch: 0004 cost= 2.497755315\n",
      "Epoch: 0005 cost= 2.126881260\n",
      "Epoch: 0006 cost= 1.878362182\n",
      "Epoch: 0007 cost= 1.699102484\n",
      "Epoch: 0008 cost= 1.563329468\n",
      "Epoch: 0009 cost= 1.456640107\n",
      "Epoch: 0010 cost= 1.370273972\n",
      "Epoch: 0011 cost= 1.298970521\n",
      "Epoch: 0012 cost= 1.238793946\n",
      "Epoch: 0013 cost= 1.187586028\n",
      "Epoch: 0014 cost= 1.143229386\n",
      "Epoch: 0015 cost= 1.104556423\n",
      "Epoch: 0016 cost= 1.070378630\n",
      "Epoch: 0017 cost= 1.040060771\n",
      "Epoch: 0018 cost= 1.012838745\n",
      "Epoch: 0019 cost= 0.988378785\n",
      "Epoch: 0020 cost= 0.966177371\n",
      "Epoch: 0021 cost= 0.945909662\n",
      "Epoch: 0022 cost= 0.927225819\n",
      "Epoch: 0023 cost= 0.909940273\n",
      "Epoch: 0024 cost= 0.894177016\n",
      "Epoch: 0025 cost= 0.879266440\n",
      "Model saved in file: log/520model.ckpt\n",
      "Accuracy: 0.8225\n",
      "Finished!\n"
     ]
    }
   ],
   "source": [
    "training_epochs = 25\n",
    "batch_size = 100\n",
    "display_step = 1\n",
    "saver = tf.train.Saver()\n",
    "model_path = 'log/520model.ckpt'\n",
    "with tf.Session() as sess:\n",
    "    sess.run(tf.global_variables_initializer())\n",
    "    for epoch in range(training_epochs):\n",
    "        avg_cost = 0\n",
    "        total_batch = int(mnist.train.num_examples/batch_size)\n",
    "        for i in range(total_batch):\n",
    "            batch_xs,batch_ys = mnist.train.next_batch(batch_size)\n",
    "            _,c = sess.run([optimizer,cost],feed_dict = {x:batch_xs,y:batch_ys})\n",
    "            avg_cost += c/total_batch\n",
    "        if (epoch+1) % display_step == 0:\n",
    "            print('Epoch:','%04d' % (epoch + 1),'cost=','{:.9f}'.format(avg_cost))\n",
    "    correct_prediction = tf.equal(tf.argmax(pred,1),tf.argmax(y,1))\n",
    "    accuracy = tf.reduce_mean(tf.cast(correct_prediction,tf.float32))\n",
    "    save_path = saver.save(sess,model_path)\n",
    "    print('Model saved in file: %s' % save_path)\n",
    "    print('Accuracy:',accuracy.eval({x:mnist.test.images,y:mnist.test.labels}))\n",
    "    print('Finished!')"
   ]
  },
  {
   "cell_type": "code",
   "execution_count": 18,
   "metadata": {},
   "outputs": [
    {
     "name": "stdout",
     "output_type": "stream",
     "text": [
      "Starting 2nd session...\n",
      "INFO:tensorflow:Restoring parameters from log/520model.ckpt\n",
      "Accuracy: 0.8225\n",
      "预测结果： [4 3 8] \n",
      "标签值： [[ 0.  0.  0.  0.  1.  0.  0.  0.  0.  0.]\n",
      " [ 0.  0.  0.  1.  0.  0.  0.  0.  0.  0.]\n",
      " [ 0.  0.  0.  0.  0.  0.  0.  0.  1.  0.]] \n",
      "预测真实输出： [[  5.09033271e-05   5.04514992e-18   2.07802042e-09   6.83914870e-04\n",
      "    9.39751506e-01   1.01035394e-05   6.17419355e-05   7.70264649e-07\n",
      "    1.52650282e-05   5.94259091e-02]\n",
      " [  1.63057010e-07   2.75278147e-08   1.28388838e-05   9.99861479e-01\n",
      "    6.28207272e-05   2.72063426e-05   5.29127888e-08   5.40967790e-07\n",
      "    3.44315522e-05   4.29303526e-07]\n",
      " [  3.65777055e-07   2.52269470e-04   1.56673224e-04   2.14669481e-01\n",
      "    3.43095378e-11   1.52378050e-06   3.89844331e-07   5.79757852e-07\n",
      "    7.84918368e-01   3.20677827e-07]]\n"
     ]
    },
    {
     "data": {
      "image/png": "[encoded data removed]",
      "text/plain": [
       "<matplotlib.figure.Figure at 0x1f68e449ac8>"
      ]
     },
     "metadata": {},
     "output_type": "display_data"
    },
    {
     "data": {
      "image/png": "[encoded data removed]",
      "text/plain": [
       "<matplotlib.figure.Figure at 0x1f68e4d58d0>"
      ]
     },
     "metadata": {},
     "output_type": "display_data"
    },
    {
     "data": {
      "image/png": "[encoded data removed]",
      "text/plain": [
       "<matplotlib.figure.Figure at 0x1f68e770860>"
      ]
     },
     "metadata": {},
     "output_type": "display_data"
    }
   ],
   "source": [
    "print(\"Starting 2nd session...\")\n",
    "saver = tf.train.Saver()\n",
    "model_path = 'log/520model.ckpt'\n",
    "with tf.Session() as sess:\n",
    "    sess.run(tf.global_variables_initializer())\n",
    "    saver.restore(sess,model_path)\n",
    "    correct_prediction = tf.equal(tf.argmax(pred,1),tf.argmax(y,1))\n",
    "    accuracy = tf.reduce_mean(tf.cast(correct_prediction,tf.float32))\n",
    "    print('Accuracy:',accuracy.eval({x:mnist.test.images,y:mnist.test.labels}))\n",
    "    output = tf.argmax(pred,1)\n",
    "    batch_xs,batch_ys = mnist.train.next_batch(3)\n",
    "    outputval,predv = sess.run([output,pred],feed_dict = {x:batch_xs})\n",
    "    print('预测结果：',outputval,'\\n标签值：',batch_ys,'\\n预测真实输出：',predv)\n",
    "    \n",
    "    im = batch_xs[0]\n",
    "    im = im.reshape(-1,28)\n",
    "    pylab.imshow(im)\n",
    "    pylab.show()\n",
    "    \n",
    "    im = batch_xs[1]\n",
    "    im = im.reshape(-1,28)\n",
    "    pylab.imshow(im)\n",
    "    pylab.show()\n",
    "    \n",
    "    im = batch_xs[2]\n",
    "    im = im.reshape(-1,28)\n",
    "    pylab.imshow(im)\n",
    "    pylab.show()"
   ]
  },
  {
   "cell_type": "code",
   "execution_count": null,
   "metadata": {
    "collapsed": true
   },
   "outputs": [],
   "source": []
  }
 ],
 "metadata": {
  "kernelspec": {
   "display_name": "Python 3",
   "language": "python",
   "name": "python3"
  },
  "language_info": {
   "codemirror_mode": {
    "name": "ipython",
    "version": 3
   },
   "file_extension": ".py",
   "mimetype": "text/x-python",
   "name": "python",
   "nbconvert_exporter": "python",
   "pygments_lexer": "ipython3",
   "version": "3.6.3"
  }
 },
 "nbformat": 4,
 "nbformat_minor": 2
}
