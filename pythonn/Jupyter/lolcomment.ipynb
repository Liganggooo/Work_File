{
 "cells": [
  {
   "cell_type": "code",
   "execution_count": 3,
   "metadata": {},
   "outputs": [
    {
     "name": "stdout",
     "output_type": "stream",
     "text": [
      "http://www.gzgov.gov.cn/xxgk/jbxxgk/fgwj/gjflfgjgz/201806/t20180608_1349286.html\n",
      "http://www.gzgov.gov.cn/xxgk/jbxxgk/fgwj/gjflfgjgz/201805/t20180523_1121074.html\n",
      "http://www.gzgov.gov.cn/xxgk/jbxxgk/fgwj/gjflfgjgz/201805/t20180511_1119578.html\n",
      "http://www.gzgov.gov.cn/xxgk/jbxxgk/fgwj/gjflfgjgz/201805/t20180511_1119577.html\n",
      "http://www.gzgov.gov.cn/xxgk/jbxxgk/fgwj/gjflfgjgz/201804/t20180426_1115292.html\n",
      "http://www.gzgov.gov.cn/xxgk/jbxxgk/fgwj/gjflfgjgz/201804/t20180426_1115291.html\n",
      "http://www.gzgov.gov.cn/xxgk/jbxxgk/fgwj/gjflfgjgz/201804/t20180409_1112552.html\n",
      "http://www.gzgov.gov.cn/xxgk/jbxxgk/fgwj/gjflfgjgz/201804/t20180409_1112550.html\n",
      "http://www.gzgov.gov.cn/xxgk/jbxxgk/fgwj/gjflfgjgz/201804/t20180409_1112551.html\n",
      "http://www.gzgov.gov.cn/xxgk/jbxxgk/fgwj/gjflfgjgz/201804/t20180409_1112553.html\n",
      "http://www.gzgov.gov.cn/xxgk/jbxxgk/fgwj/gjflfgjgz/201801/t20180115_1090638.html\n",
      "http://www.gzgov.gov.cn/xxgk/jbxxgk/fgwj/gjflfgjgz/201801/t20180115_1090637.html\n",
      "http://www.gzgov.gov.cn/xxgk/jbxxgk/fgwj/gjflfgjgz/201801/t20180115_1090636.html\n",
      "http://www.gzgov.gov.cn/xxgk/jbxxgk/fgwj/gjflfgjgz/201801/t20180115_1090635.html\n",
      "http://www.gzgov.gov.cn/xxgk/jbxxgk/fgwj/gjflfgjgz/201712/t20171207_1084609.html\n"
     ]
    }
   ],
   "source": [
    "import requests\n",
    "from pyquery import PyQuery as pq\n",
    "url = 'http://www.gzgov.gov.cn/xxgk/jbxxgk/fgwj/gjflfgjgz/index.html'\n",
    "response = requests.get(url)\n",
    "response.encoding = 'utf-8'\n",
    "html = response.text\n",
    "# print(html)\n",
    "doc = pq(html)\n",
    "items = doc('.right-list .right-list-box ul li')\n",
    "# print(items)\n",
    "for item in items.items():\n",
    "    link = item.find('a').attr('href')\n",
    "#     print(item)\n",
    "    print(link)"
   ]
  }
 ],
 "metadata": {
  "kernelspec": {
   "display_name": "Python 3",
   "language": "python",
   "name": "python3"
  },
  "language_info": {
   "codemirror_mode": {
    "name": "ipython",
    "version": 3
   },
   "file_extension": ".py",
   "mimetype": "text/x-python",
   "name": "python",
   "nbconvert_exporter": "python",
   "pygments_lexer": "ipython3",
   "version": "3.6.3"
  }
 },
 "nbformat": 4,
 "nbformat_minor": 2
}
