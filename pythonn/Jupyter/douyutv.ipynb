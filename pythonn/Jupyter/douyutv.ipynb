{
 "cells": [
  {
   "cell_type": "code",
   "execution_count": 12,
   "metadata": {},
   "outputs": [],
   "source": [
    "import requests\n",
    "from bs4 import BeautifulSoup\n",
    "import lxml\n",
    "url = 'https://www.douyu.com/directory/game/LOL'\n",
    "response = requests.get(url)\n",
    "html = response.text\n",
    "# print(html)\n",
    "soup = BeautifulSoup(html,'lxml')\n",
    "title = soup.select('.play-list-link')\n",
    "for info in title:\n",
    "    # print(infos)\n",
    "    tag = info.select('.mes-tit')[0]\n",
    "    tag = tag.select('span')[0].get_text()\n",
    "    name = info.select('.mes')[0]('span')[1].get_text()\n",
    "    enrages = info.select('.mes')[0]('span')[2].get_text()\n",
    "    Mantra = info.select('.impress-tag-list')[0].get_text()\n",
    "#     print(tag,name,enrages,Mantra)"
   ]
  }
 ],
 "metadata": {
  "kernelspec": {
   "display_name": "Python 3",
   "language": "python",
   "name": "python3"
  },
  "language_info": {
   "codemirror_mode": {
    "name": "ipython",
    "version": 3
   },
   "file_extension": ".py",
   "mimetype": "text/x-python",
   "name": "python",
   "nbconvert_exporter": "python",
   "pygments_lexer": "ipython3",
   "version": "3.6.3"
  }
 },
 "nbformat": 4,
 "nbformat_minor": 2
}
